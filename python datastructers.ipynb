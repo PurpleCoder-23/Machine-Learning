{
 "cells": [
  {
   "cell_type": "markdown",
   "id": "e58672e3",
   "metadata": {},
   "source": [
    "# Python Tutorial"
   ]
  },
  {
   "cell_type": "code",
   "execution_count": 1,
   "id": "2aa1880d",
   "metadata": {},
   "outputs": [],
   "source": [
    "import sys\n",
    "import keyword\n",
    "import operator\n",
    "from datetime import datetime\n",
    "import os\n"
   ]
  },
  {
   "cell_type": "markdown",
   "id": "0a67b167",
   "metadata": {},
   "source": [
    "# keywords\n",
    "keywords are the reserved words in python and cant be used as an identifier"
   ]
  },
  {
   "cell_type": "code",
   "execution_count": 2,
   "id": "cb2b44a0",
   "metadata": {},
   "outputs": [
    {
     "name": "stdout",
     "output_type": "stream",
     "text": [
      "['False', 'None', 'True', 'and', 'as', 'assert', 'async', 'await', 'break', 'class', 'continue', 'def', 'del', 'elif', 'else', 'except', 'finally', 'for', 'from', 'global', 'if', 'import', 'in', 'is', 'lambda', 'nonlocal', 'not', 'or', 'pass', 'raise', 'return', 'try', 'while', 'with', 'yield']\n"
     ]
    }
   ],
   "source": [
    "print(keyword.kwlist)"
   ]
  },
  {
   "cell_type": "code",
   "execution_count": 3,
   "id": "ad82a51f",
   "metadata": {},
   "outputs": [
    {
     "data": {
      "text/plain": [
       "35"
      ]
     },
     "execution_count": 3,
     "metadata": {},
     "output_type": "execute_result"
    }
   ],
   "source": [
    "len(keyword.kwlist)"
   ]
  },
  {
   "cell_type": "markdown",
   "id": "9215c606",
   "metadata": {},
   "source": [
    "## identifiers\n",
    "an identifier is a name given to entities like class,variables , functions etc It helos to differentiate one entity from another\n",
    "\n",
    "\n",
    "### rules\n",
    "1.identifier cant start with a digit\n",
    "2.identifier cant use special symbols,\n",
    "3.keywords cant be used as identifiers\n",
    "4.Identifier can be a combination of letters in lowercas or uppercase can include numbers and underscore\n",
    "\n"
   ]
  },
  {
   "cell_type": "markdown",
   "id": "f2c3fe29",
   "metadata": {},
   "source": [
    "# comments in python\n",
    "comments can be used to explain the code or to improve readability"
   ]
  },
  {
   "cell_type": "code",
   "execution_count": 5,
   "id": "a9dbbe7b",
   "metadata": {},
   "outputs": [
    {
     "data": {
      "text/plain": [
       "' \\nmulti line comment\\n'"
      ]
     },
     "execution_count": 5,
     "metadata": {},
     "output_type": "execute_result"
    }
   ],
   "source": [
    "#Single line comment\n",
    "\"\"\" \n",
    "multi line comment\n",
    "\"\"\""
   ]
  },
  {
   "cell_type": "markdown",
   "id": "55bc1f36",
   "metadata": {},
   "source": [
    "# statement\n",
    "\n",
    "instructions that a python interpreter can execute"
   ]
  },
  {
   "cell_type": "code",
   "execution_count": 8,
   "id": "478a693b",
   "metadata": {},
   "outputs": [
    {
     "data": {
      "text/plain": [
       "10"
      ]
     },
     "execution_count": 8,
     "metadata": {},
     "output_type": "execute_result"
    }
   ],
   "source": [
    "A=10 # single line statement\n",
    "A"
   ]
  },
  {
   "cell_type": "code",
   "execution_count": 10,
   "id": "0d874f68",
   "metadata": {},
   "outputs": [
    {
     "data": {
      "text/plain": [
       "['a', 'b', 'f']"
      ]
     },
     "execution_count": 10,
     "metadata": {},
     "output_type": "execute_result"
    }
   ],
   "source": [
    "# multiline statement\n",
    "B=['a',\n",
    "  'b',\n",
    "  'f']\n",
    "B"
   ]
  },
  {
   "cell_type": "markdown",
   "id": "5b05c168",
   "metadata": {},
   "source": [
    "# Indentation\n",
    "\n",
    "indentation refers to the spaces at the begining of a code line.It is very important as python uses indentation to indicate a block of code.if the indentationt is not correct we eill endup with indentationError error."
   ]
  },
  {
   "cell_type": "code",
   "execution_count": 11,
   "id": "29bc0880",
   "metadata": {},
   "outputs": [
    {
     "name": "stdout",
     "output_type": "stream",
     "text": [
      "a  is equal to 10\n"
     ]
    }
   ],
   "source": [
    "a=10\n",
    "if a==10:\n",
    "    print('a  is equal to 10')"
   ]
  },
  {
   "cell_type": "code",
   "execution_count": 12,
   "id": "23e91982",
   "metadata": {},
   "outputs": [
    {
     "ename": "IndentationError",
     "evalue": "expected an indented block after 'if' statement on line 3 (1524224772.py, line 4)",
     "output_type": "error",
     "traceback": [
      "\u001b[1;36m  Cell \u001b[1;32mIn[12], line 4\u001b[1;36m\u001b[0m\n\u001b[1;33m    print('a is equal to 10')\u001b[0m\n\u001b[1;37m    ^\u001b[0m\n\u001b[1;31mIndentationError\u001b[0m\u001b[1;31m:\u001b[0m expected an indented block after 'if' statement on line 3\n"
     ]
    }
   ],
   "source": [
    "# if indentation is skipped we will encounter\"INDENTATIONERROR\"\n",
    "a=10\n",
    "if a==10:\n",
    "print('a is equal to 10')"
   ]
  },
  {
   "cell_type": "code",
   "execution_count": 13,
   "id": "98518c5f",
   "metadata": {},
   "outputs": [
    {
     "name": "stdout",
     "output_type": "stream",
     "text": [
      "0\n",
      "1\n",
      "2\n",
      "3\n",
      "4\n"
     ]
    }
   ],
   "source": [
    "for i in range(0,5):\n",
    "    print(i)"
   ]
  },
  {
   "cell_type": "code",
   "execution_count": 15,
   "id": "d19ae78e",
   "metadata": {},
   "outputs": [
    {
     "name": "stdout",
     "output_type": "stream",
     "text": [
      "0\n",
      "1\n",
      "2\n",
      "3\n",
      "4\n",
      "20\n"
     ]
    }
   ],
   "source": [
    "j=20\n",
    "for i in range(0,5):\n",
    "    print(i)# inside the for loop\n",
    "print(j)# outside the for loop"
   ]
  },
  {
   "cell_type": "markdown",
   "id": "8a3f7001",
   "metadata": {},
   "source": [
    "# Docstrings\n",
    "1)docstrings provide a convenient way of associating documentation with functions,classes,methods ormodules\n",
    "2)they appear right after the definition of a function,method , class or module"
   ]
  },
  {
   "cell_type": "code",
   "execution_count": 16,
   "id": "6c336147",
   "metadata": {},
   "outputs": [
    {
     "data": {
      "text/plain": [
       "'square function  will return the square of a numver'"
      ]
     },
     "execution_count": 16,
     "metadata": {},
     "output_type": "execute_result"
    }
   ],
   "source": [
    "def square(num):\n",
    "    return num**2\n",
    "\"\"\"square function  will return the square of a numver\"\"\""
   ]
  },
  {
   "cell_type": "code",
   "execution_count": 17,
   "id": "8b1c791e",
   "metadata": {},
   "outputs": [
    {
     "data": {
      "text/plain": [
       "9"
      ]
     },
     "execution_count": 17,
     "metadata": {},
     "output_type": "execute_result"
    }
   ],
   "source": [
    "square(3)"
   ]
  },
  {
   "cell_type": "code",
   "execution_count": 18,
   "id": "524a45a2",
   "metadata": {},
   "outputs": [
    {
     "ename": "AttributeError",
     "evalue": "'function' object has no attribute '_doc_'",
     "output_type": "error",
     "traceback": [
      "\u001b[1;31m---------------------------------------------------------------------------\u001b[0m",
      "\u001b[1;31mAttributeError\u001b[0m                            Traceback (most recent call last)",
      "Cell \u001b[1;32mIn[18], line 1\u001b[0m\n\u001b[1;32m----> 1\u001b[0m \u001b[43msquare\u001b[49m\u001b[38;5;241;43m.\u001b[39;49m\u001b[43m_doc_\u001b[49m\n",
      "\u001b[1;31mAttributeError\u001b[0m: 'function' object has no attribute '_doc_'"
     ]
    }
   ],
   "source": [
    "square._doc_ # we can access the docstring using _doc_ method"
   ]
  },
  {
   "cell_type": "code",
   "execution_count": 19,
   "id": "7542d85f",
   "metadata": {},
   "outputs": [
    {
     "ename": "NameError",
     "evalue": "name 'evenodd' is not defined",
     "output_type": "error",
     "traceback": [
      "\u001b[1;31m---------------------------------------------------------------------------\u001b[0m",
      "\u001b[1;31mNameError\u001b[0m                                 Traceback (most recent call last)",
      "Cell \u001b[1;32mIn[19], line 1\u001b[0m\n\u001b[1;32m----> 1\u001b[0m \u001b[43mevenodd\u001b[49m\u001b[38;5;241m.\u001b[39m_doc_\n",
      "\u001b[1;31mNameError\u001b[0m: name 'evenodd' is not defined"
     ]
    }
   ],
   "source": [
    "evenodd._doc_"
   ]
  },
  {
   "cell_type": "code",
   "execution_count": 20,
   "id": "e6c978a8",
   "metadata": {},
   "outputs": [],
   "source": [
    "def evenodd(num):\n",
    "    if num%2==0:\n",
    "        print(\"even number\")\n",
    "    else:\n",
    "        print(\"odd number\")\n",
    "    \n",
    "    \n",
    "    \"\"\"evenodd function: thid function will test whther a number is even or odd\n",
    "    \"\"\"\n",
    "    "
   ]
  },
  {
   "cell_type": "code",
   "execution_count": 21,
   "id": "16c5fd42",
   "metadata": {},
   "outputs": [
    {
     "name": "stdout",
     "output_type": "stream",
     "text": [
      "odd number\n"
     ]
    }
   ],
   "source": [
    "evenodd(7)"
   ]
  },
  {
   "cell_type": "code",
   "execution_count": 22,
   "id": "2ff02c23",
   "metadata": {},
   "outputs": [
    {
     "name": "stdout",
     "output_type": "stream",
     "text": [
      "even number\n"
     ]
    }
   ],
   "source": [
    "evenodd(8)"
   ]
  },
  {
   "cell_type": "code",
   "execution_count": 23,
   "id": "696d4f79",
   "metadata": {},
   "outputs": [
    {
     "ename": "AttributeError",
     "evalue": "'function' object has no attribute '_doc_'",
     "output_type": "error",
     "traceback": [
      "\u001b[1;31m---------------------------------------------------------------------------\u001b[0m",
      "\u001b[1;31mAttributeError\u001b[0m                            Traceback (most recent call last)",
      "Cell \u001b[1;32mIn[23], line 1\u001b[0m\n\u001b[1;32m----> 1\u001b[0m \u001b[43mevenodd\u001b[49m\u001b[38;5;241;43m.\u001b[39;49m\u001b[43m_doc_\u001b[49m\n",
      "\u001b[1;31mAttributeError\u001b[0m: 'function' object has no attribute '_doc_'"
     ]
    }
   ],
   "source": [
    "evenodd._doc_"
   ]
  },
  {
   "cell_type": "markdown",
   "id": "fdbc8337",
   "metadata": {},
   "source": [
    "# variable\n",
    "\n",
    "a python variable is a reserved memory location to store values.a variabke is created the moment you first assign  a value to it\n"
   ]
  },
  {
   "cell_type": "code",
   "execution_count": 24,
   "id": "d7131558",
   "metadata": {},
   "outputs": [],
   "source": [
    "p=30"
   ]
  },
  {
   "cell_type": "code",
   "execution_count": 25,
   "id": "c78cee46",
   "metadata": {},
   "outputs": [
    {
     "data": {
      "text/plain": [
       "'\\nid() function returns the \"identity\" of the object.\\nThe identity of an object -is an integer\\n                         - guaranteed to be unique\\n                        -constant for this object during its lifetime\\n'"
      ]
     },
     "execution_count": 25,
     "metadata": {},
     "output_type": "execute_result"
    }
   ],
   "source": [
    "'''\n",
    "id() function returns the \"identity\" of the object.\n",
    "The identity of an object -is an integer\n",
    "                         - guaranteed to be unique\n",
    "                        -constant for this object during its lifetime\n",
    "'''"
   ]
  },
  {
   "cell_type": "code",
   "execution_count": 26,
   "id": "4dd23fd0",
   "metadata": {},
   "outputs": [
    {
     "data": {
      "text/plain": [
       "2606870561936"
      ]
     },
     "execution_count": 26,
     "metadata": {},
     "output_type": "execute_result"
    }
   ],
   "source": [
    "id(p)"
   ]
  },
  {
   "cell_type": "code",
   "execution_count": 27,
   "id": "f71bba14",
   "metadata": {},
   "outputs": [
    {
     "data": {
      "text/plain": [
       "'0x25ef5980490'"
      ]
     },
     "execution_count": 27,
     "metadata": {},
     "output_type": "execute_result"
    }
   ],
   "source": [
    "hex(id(p))#memory address of the variable"
   ]
  },
  {
   "cell_type": "markdown",
   "id": "7f2b3c51",
   "metadata": {},
   "source": [
    "# variable assignment"
   ]
  },
  {
   "cell_type": "code",
   "execution_count": 28,
   "id": "a1780b60",
   "metadata": {},
   "outputs": [
    {
     "name": "stdout",
     "output_type": "stream",
     "text": [
      "10\n",
      "2.48\n",
      "python language\n"
     ]
    }
   ],
   "source": [
    "intvar=10\n",
    "floatvar=2.48\n",
    "strvar=\"python language\"\n",
    "\n",
    "\n",
    "print(intvar)\n",
    "print(floatvar)\n",
    "print(strvar)"
   ]
  },
  {
   "cell_type": "code",
   "execution_count": 30,
   "id": "2216269f",
   "metadata": {},
   "outputs": [
    {
     "name": "stdout",
     "output_type": "stream",
     "text": [
      "10\n",
      "2.48\n",
      "python language\n"
     ]
    }
   ],
   "source": [
    "intvar,floatvar,strvar=10,2.48,'python language'# multpe assignments using commas\n",
    "print(intvar)\n",
    "print(floatvar)\n",
    "print(strvar)"
   ]
  },
  {
   "cell_type": "code",
   "execution_count": 31,
   "id": "093d3e50",
   "metadata": {},
   "outputs": [
    {
     "name": "stdout",
     "output_type": "stream",
     "text": [
      "18 18 18 18\n"
     ]
    }
   ],
   "source": [
    "p1=p2=p3=p4=18#all variables pointing to same value\n",
    "print(p1,p2,p3,p4)"
   ]
  },
  {
   "cell_type": "markdown",
   "id": "79159122",
   "metadata": {},
   "source": [
    "# data types"
   ]
  },
  {
   "cell_type": "markdown",
   "id": "e6356e98",
   "metadata": {},
   "source": [
    "## numeric"
   ]
  },
  {
   "cell_type": "code",
   "execution_count": 35,
   "id": "d4e818a4",
   "metadata": {},
   "outputs": [
    {
     "name": "stdout",
     "output_type": "stream",
     "text": [
      "10\n",
      "<class 'int'>\n",
      "28\n",
      "10 is integer? True\n"
     ]
    }
   ],
   "source": [
    "# integer data type\n",
    "val1=10 \n",
    "print(val1)\n",
    "print(type(val1))\n",
    "print(sys.getsizeof(val1))\n",
    "print(val1,'is integer?', isinstance(val1,int))"
   ]
  },
  {
   "cell_type": "code",
   "execution_count": 36,
   "id": "60c0aa81",
   "metadata": {},
   "outputs": [
    {
     "name": "stdout",
     "output_type": "stream",
     "text": [
      "92.78\n",
      "<class 'float'>\n",
      "24\n",
      "92.78 is float? True\n"
     ]
    }
   ],
   "source": [
    "#float data type\n",
    "val2=92.78\n",
    "print(val2)\n",
    "print(type(val2))\n",
    "print(sys.getsizeof(val2))\n",
    "print(val2,\"is float?\", isinstance(val2,float))"
   ]
  },
  {
   "cell_type": "code",
   "execution_count": 37,
   "id": "8952e5eb",
   "metadata": {},
   "outputs": [
    {
     "name": "stdout",
     "output_type": "stream",
     "text": [
      "<class 'complex'>\n",
      "(25+10j)\n",
      "32\n",
      "(25+10j) is complex? True\n"
     ]
    }
   ],
   "source": [
    "# complex data type\n",
    "val3=25+10j\n",
    "print(type(val3))\n",
    "print(val3)\n",
    "print(sys.getsizeof(val3))\n",
    "print(val3,'is complex?', isinstance(val3,complex))"
   ]
  },
  {
   "cell_type": "code",
   "execution_count": 39,
   "id": "4bea361f",
   "metadata": {},
   "outputs": [
    {
     "data": {
      "text/plain": [
       "24"
      ]
     },
     "execution_count": 39,
     "metadata": {},
     "output_type": "execute_result"
    }
   ],
   "source": [
    "sys.getsizeof(int())# size of int object in bytes"
   ]
  },
  {
   "cell_type": "markdown",
   "id": "918b6da2",
   "metadata": {},
   "source": [
    "# boolean\n",
    "\n",
    "boolean data type can have only two possible values true or false"
   ]
  },
  {
   "cell_type": "code",
   "execution_count": 40,
   "id": "3931325e",
   "metadata": {},
   "outputs": [],
   "source": [
    "bool1=True\n",
    "bool2=False"
   ]
  },
  {
   "cell_type": "code",
   "execution_count": 41,
   "id": "b7826b04",
   "metadata": {},
   "outputs": [
    {
     "name": "stdout",
     "output_type": "stream",
     "text": [
      "<class 'bool'>\n",
      "<class 'bool'>\n"
     ]
    }
   ],
   "source": [
    "print(type(bool1))\n",
    "print(type(bool2))"
   ]
  },
  {
   "cell_type": "code",
   "execution_count": 42,
   "id": "878289b5",
   "metadata": {},
   "outputs": [
    {
     "data": {
      "text/plain": [
       "True"
      ]
     },
     "execution_count": 42,
     "metadata": {},
     "output_type": "execute_result"
    }
   ],
   "source": [
    "isinstance(bool1,bool)\n"
   ]
  },
  {
   "cell_type": "code",
   "execution_count": 43,
   "id": "770d880e",
   "metadata": {},
   "outputs": [
    {
     "data": {
      "text/plain": [
       "False"
      ]
     },
     "execution_count": 43,
     "metadata": {},
     "output_type": "execute_result"
    }
   ],
   "source": [
    "bool(0)"
   ]
  },
  {
   "cell_type": "code",
   "execution_count": 44,
   "id": "8488a8fe",
   "metadata": {},
   "outputs": [
    {
     "data": {
      "text/plain": [
       "True"
      ]
     },
     "execution_count": 44,
     "metadata": {},
     "output_type": "execute_result"
    }
   ],
   "source": [
    "bool(1)"
   ]
  },
  {
   "cell_type": "code",
   "execution_count": 46,
   "id": "e9c921ea",
   "metadata": {},
   "outputs": [
    {
     "data": {
      "text/plain": [
       "False"
      ]
     },
     "execution_count": 46,
     "metadata": {},
     "output_type": "execute_result"
    }
   ],
   "source": [
    "bool(None)"
   ]
  },
  {
   "cell_type": "code",
   "execution_count": 47,
   "id": "daa69f39",
   "metadata": {},
   "outputs": [
    {
     "data": {
      "text/plain": [
       "False"
      ]
     },
     "execution_count": 47,
     "metadata": {},
     "output_type": "execute_result"
    }
   ],
   "source": [
    "bool(False)"
   ]
  },
  {
   "cell_type": "markdown",
   "id": "f3ea36cd",
   "metadata": {},
   "source": [
    "# strings"
   ]
  },
  {
   "cell_type": "markdown",
   "id": "ef6269f4",
   "metadata": {},
   "source": [
    "## string creation"
   ]
  },
  {
   "cell_type": "code",
   "execution_count": 48,
   "id": "67fa9747",
   "metadata": {},
   "outputs": [
    {
     "name": "stdout",
     "output_type": "stream",
     "text": [
      "Hello Python\n"
     ]
    }
   ],
   "source": [
    "str1=\"Hello Python\"\n",
    "print(str1)"
   ]
  },
  {
   "cell_type": "code",
   "execution_count": 49,
   "id": "62a4d555",
   "metadata": {},
   "outputs": [
    {
     "name": "stdout",
     "output_type": "stream",
     "text": [
      "Hello World\n"
     ]
    }
   ],
   "source": [
    "mystr=\"Hello World\"\n",
    "print(mystr)"
   ]
  },
  {
   "cell_type": "code",
   "execution_count": 51,
   "id": "f694ecda",
   "metadata": {},
   "outputs": [
    {
     "name": "stdout",
     "output_type": "stream",
     "text": [
      "hello\n",
      "       world\n",
      "\n"
     ]
    }
   ],
   "source": [
    "mystr='''hello\n",
    "       world\n",
    "'''\n",
    "print(mystr)"
   ]
  },
  {
   "cell_type": "code",
   "execution_count": 54,
   "id": "4a722252",
   "metadata": {},
   "outputs": [
    {
     "data": {
      "text/plain": [
       "'wohoowohoowohoowohoowohoo'"
      ]
     },
     "execution_count": 54,
     "metadata": {},
     "output_type": "execute_result"
    }
   ],
   "source": [
    "mystr='wohoo'\n",
    "mystr=mystr*5\n",
    "mystr"
   ]
  },
  {
   "cell_type": "code",
   "execution_count": 55,
   "id": "37f7c581",
   "metadata": {},
   "outputs": [
    {
     "data": {
      "text/plain": [
       "25"
      ]
     },
     "execution_count": 55,
     "metadata": {},
     "output_type": "execute_result"
    }
   ],
   "source": [
    "len(mystr)"
   ]
  },
  {
   "cell_type": "markdown",
   "id": "9f632d24",
   "metadata": {},
   "source": [
    "# string indexing"
   ]
  },
  {
   "cell_type": "markdown",
   "id": "27d1f61e",
   "metadata": {},
   "source": [
    "forward indexing starts from left and zero\n",
    "backward indexing starts from right and zero"
   ]
  },
  {
   "cell_type": "code",
   "execution_count": 57,
   "id": "4992a0ef",
   "metadata": {},
   "outputs": [
    {
     "data": {
      "text/plain": [
       "'Hello Python'"
      ]
     },
     "execution_count": 57,
     "metadata": {},
     "output_type": "execute_result"
    }
   ],
   "source": [
    "str1"
   ]
  },
  {
   "cell_type": "code",
   "execution_count": 58,
   "id": "bf0338d2",
   "metadata": {},
   "outputs": [
    {
     "data": {
      "text/plain": [
       "'H'"
      ]
     },
     "execution_count": 58,
     "metadata": {},
     "output_type": "execute_result"
    }
   ],
   "source": [
    "str1[0] #first character in string"
   ]
  },
  {
   "cell_type": "code",
   "execution_count": 59,
   "id": "3335ab37",
   "metadata": {},
   "outputs": [
    {
     "data": {
      "text/plain": [
       "'n'"
      ]
     },
     "execution_count": 59,
     "metadata": {},
     "output_type": "execute_result"
    }
   ],
   "source": [
    "str1[len(str1)-1] # last character in string using len fuction"
   ]
  },
  {
   "cell_type": "code",
   "execution_count": 60,
   "id": "febf3182",
   "metadata": {},
   "outputs": [
    {
     "data": {
      "text/plain": [
       "'n'"
      ]
     },
     "execution_count": 60,
     "metadata": {},
     "output_type": "execute_result"
    }
   ],
   "source": [
    "str1[-1]"
   ]
  },
  {
   "cell_type": "code",
   "execution_count": 61,
   "id": "0b8e22bd",
   "metadata": {},
   "outputs": [
    {
     "data": {
      "text/plain": [
       "'P'"
      ]
     },
     "execution_count": 61,
     "metadata": {},
     "output_type": "execute_result"
    }
   ],
   "source": [
    "str1[6]"
   ]
  },
  {
   "cell_type": "markdown",
   "id": "d068ba24",
   "metadata": {},
   "source": [
    "# string slicing"
   ]
  },
  {
   "cell_type": "code",
   "execution_count": 62,
   "id": "ca1d6a5e",
   "metadata": {},
   "outputs": [
    {
     "data": {
      "text/plain": [
       "'Hello'"
      ]
     },
     "execution_count": 62,
     "metadata": {},
     "output_type": "execute_result"
    }
   ],
   "source": [
    "str1[0:5] \n",
    "#string slicing: fetch all characters from 0to 5 index location"
   ]
  },
  {
   "cell_type": "code",
   "execution_count": 63,
   "id": "48e15606",
   "metadata": {},
   "outputs": [
    {
     "data": {
      "text/plain": [
       "'Python'"
      ]
     },
     "execution_count": 63,
     "metadata": {},
     "output_type": "execute_result"
    }
   ],
   "source": [
    "str1[6:12]"
   ]
  },
  {
   "cell_type": "code",
   "execution_count": 64,
   "id": "180ec6d4",
   "metadata": {},
   "outputs": [
    {
     "data": {
      "text/plain": [
       "'thon'"
      ]
     },
     "execution_count": 64,
     "metadata": {},
     "output_type": "execute_result"
    }
   ],
   "source": [
    "str1[-4:] #retreives last four characters of the string"
   ]
  },
  {
   "cell_type": "code",
   "execution_count": 65,
   "id": "e72b7034",
   "metadata": {},
   "outputs": [
    {
     "data": {
      "text/plain": [
       "'Python'"
      ]
     },
     "execution_count": 65,
     "metadata": {},
     "output_type": "execute_result"
    }
   ],
   "source": [
    "str1[-6:] # retreives last six characters of the string"
   ]
  },
  {
   "cell_type": "code",
   "execution_count": 66,
   "id": "1f7f895e",
   "metadata": {},
   "outputs": [
    {
     "data": {
      "text/plain": [
       "'Hell'"
      ]
     },
     "execution_count": 66,
     "metadata": {},
     "output_type": "execute_result"
    }
   ],
   "source": [
    "str1[:4]#retreives first four characters of the string"
   ]
  },
  {
   "cell_type": "code",
   "execution_count": 67,
   "id": "8dcea807",
   "metadata": {},
   "outputs": [
    {
     "data": {
      "text/plain": [
       "'Hello '"
      ]
     },
     "execution_count": 67,
     "metadata": {},
     "output_type": "execute_result"
    }
   ],
   "source": [
    "str1[:6]# retreives first six characters of the string"
   ]
  },
  {
   "cell_type": "markdown",
   "id": "62b30860",
   "metadata": {},
   "source": [
    "# update & deleting string"
   ]
  },
  {
   "cell_type": "code",
   "execution_count": 68,
   "id": "9c73b4ad",
   "metadata": {},
   "outputs": [
    {
     "data": {
      "text/plain": [
       "'Hello Python'"
      ]
     },
     "execution_count": 68,
     "metadata": {},
     "output_type": "execute_result"
    }
   ],
   "source": [
    "str1"
   ]
  },
  {
   "cell_type": "code",
   "execution_count": 69,
   "id": "bcecad54",
   "metadata": {},
   "outputs": [
    {
     "ename": "TypeError",
     "evalue": "'type' object does not support item assignment",
     "output_type": "error",
     "traceback": [
      "\u001b[1;31m---------------------------------------------------------------------------\u001b[0m",
      "\u001b[1;31mTypeError\u001b[0m                                 Traceback (most recent call last)",
      "Cell \u001b[1;32mIn[69], line 2\u001b[0m\n\u001b[0;32m      1\u001b[0m \u001b[38;5;66;03m# srings are immutable which means elements of a string cannot be changed\u001b[39;00m\n\u001b[1;32m----> 2\u001b[0m \u001b[38;5;28mstr\u001b[39m[\u001b[38;5;241m0\u001b[39m:\u001b[38;5;241m5\u001b[39m]\u001b[38;5;241m=\u001b[39m\u001b[38;5;124m'\u001b[39m\u001b[38;5;124mholaa\u001b[39m\u001b[38;5;124m'\u001b[39m\n",
      "\u001b[1;31mTypeError\u001b[0m: 'type' object does not support item assignment"
     ]
    }
   ],
   "source": [
    "# srings are immutable which means elements of a string cannot be changed\n",
    "str[0:5]='holaa'"
   ]
  },
  {
   "cell_type": "code",
   "execution_count": 70,
   "id": "f4752eb6",
   "metadata": {},
   "outputs": [],
   "source": [
    "del str1 #delete sring\n"
   ]
  },
  {
   "cell_type": "markdown",
   "id": "ff1fe5b2",
   "metadata": {},
   "source": [
    "# string concatenation"
   ]
  },
  {
   "cell_type": "code",
   "execution_count": 71,
   "id": "c32ec07e",
   "metadata": {},
   "outputs": [
    {
     "name": "stdout",
     "output_type": "stream",
     "text": [
      "hellosimmi\n"
     ]
    }
   ],
   "source": [
    "s1='hello'\n",
    "s2='simmi'\n",
    "s3=s1+s2\n",
    "print(s3)"
   ]
  },
  {
   "cell_type": "code",
   "execution_count": 74,
   "id": "1946142a",
   "metadata": {},
   "outputs": [
    {
     "name": "stdout",
     "output_type": "stream",
     "text": [
      "hello   simmi\n"
     ]
    }
   ],
   "source": [
    "s3=s1+\"   \"+s2\n",
    "print(s3)"
   ]
  },
  {
   "cell_type": "markdown",
   "id": "1f2680fb",
   "metadata": {},
   "source": [
    "# iterating through a string"
   ]
  },
  {
   "cell_type": "code",
   "execution_count": 75,
   "id": "f285b627",
   "metadata": {},
   "outputs": [],
   "source": [
    "mystr1='hello everyone'"
   ]
  },
  {
   "cell_type": "code",
   "execution_count": 76,
   "id": "732c0879",
   "metadata": {},
   "outputs": [
    {
     "name": "stdout",
     "output_type": "stream",
     "text": [
      "h\n",
      "e\n",
      "l\n",
      "l\n",
      "o\n",
      " \n",
      "e\n",
      "v\n",
      "e\n",
      "r\n",
      "y\n",
      "o\n",
      "n\n",
      "e\n"
     ]
    }
   ],
   "source": [
    "#iteration\n",
    "for i in mystr1:\n",
    "    print(i)"
   ]
  },
  {
   "cell_type": "code",
   "execution_count": 77,
   "id": "d5e65995",
   "metadata": {},
   "outputs": [
    {
     "name": "stdout",
     "output_type": "stream",
     "text": [
      "(0, 'h')\n",
      "(1, 'e')\n",
      "(2, 'l')\n",
      "(3, 'l')\n",
      "(4, 'o')\n",
      "(5, ' ')\n",
      "(6, 'e')\n",
      "(7, 'v')\n",
      "(8, 'e')\n",
      "(9, 'r')\n",
      "(10, 'y')\n",
      "(11, 'o')\n",
      "(12, 'n')\n",
      "(13, 'e')\n"
     ]
    }
   ],
   "source": [
    "for i in enumerate(mystr1):\n",
    "    print(i)"
   ]
  },
  {
   "cell_type": "code",
   "execution_count": 78,
   "id": "205852b9",
   "metadata": {},
   "outputs": [
    {
     "data": {
      "text/plain": [
       "[(0, 'h'),\n",
       " (1, 'e'),\n",
       " (2, 'l'),\n",
       " (3, 'l'),\n",
       " (4, 'o'),\n",
       " (5, ' '),\n",
       " (6, 'e'),\n",
       " (7, 'v'),\n",
       " (8, 'e'),\n",
       " (9, 'r'),\n",
       " (10, 'y'),\n",
       " (11, 'o'),\n",
       " (12, 'n'),\n",
       " (13, 'e')]"
      ]
     },
     "execution_count": 78,
     "metadata": {},
     "output_type": "execute_result"
    }
   ],
   "source": [
    "list(enumerate(mystr1))#enumerate method adds counter to an iterable "
   ]
  },
  {
   "cell_type": "markdown",
   "id": "2411f6d0",
   "metadata": {},
   "source": [
    "# string membership"
   ]
  },
  {
   "cell_type": "code",
   "execution_count": 80,
   "id": "5e2a4667",
   "metadata": {},
   "outputs": [
    {
     "name": "stdout",
     "output_type": "stream",
     "text": [
      "True\n",
      "True\n",
      "False\n"
     ]
    }
   ],
   "source": [
    "# string membership\n",
    "\n",
    "mystr1=\"Hello Everyone\"\n",
    "\n",
    "print('Hello'in mystr1)\n",
    "print('Everyone' in mystr1)\n",
    "print('hi' in mystr1)"
   ]
  },
  {
   "cell_type": "markdown",
   "id": "4b7dcffd",
   "metadata": {},
   "source": [
    "# string partioning"
   ]
  },
  {
   "cell_type": "code",
   "execution_count": 82,
   "id": "349eaf3f",
   "metadata": {},
   "outputs": [
    {
     "name": "stdout",
     "output_type": "stream",
     "text": [
      "('Natural language processing with python ', 'and', ' R and Java')\n"
     ]
    }
   ],
   "source": [
    "'''\n",
    "The partition() method searches for a specified string and splits into\n",
    "\n",
    "-The first element contains the part before the argument string.\n",
    "\n",
    "-The second element contains the argument string\n",
    "\n",
    "-The third element contains the part after the argument sting\n",
    "'''\n",
    "\n",
    "str5=\"Natural language processing with python and R and Java\"\n",
    "\n",
    "L=str5.partition(\"and\")\n",
    "print(L)"
   ]
  },
  {
   "cell_type": "code",
   "execution_count": 83,
   "id": "c18f1f68",
   "metadata": {},
   "outputs": [
    {
     "name": "stdout",
     "output_type": "stream",
     "text": [
      "('Natural language processing with python and R ', 'and', ' Java')\n"
     ]
    }
   ],
   "source": [
    "\"\"\"\n",
    "THe rpartition() method searches for the last occurence of the specified string \n",
    "containg three elements\n",
    "\n",
    "_ the first element contains the part before the argument string.\n",
    "_The second element contains the argument string\n",
    "_The third element contains the part after the argument string\n",
    "\"\"\"\n",
    "\n",
    "str5=\"Natural language processing with python and R and Java\"\n",
    "L=str5.rpartition(\"and\")\n",
    "print(L)"
   ]
  },
  {
   "cell_type": "markdown",
   "id": "6743a7ec",
   "metadata": {},
   "source": [
    "# string functions\n"
   ]
  },
  {
   "cell_type": "code",
   "execution_count": 84,
   "id": "3e5fa583",
   "metadata": {},
   "outputs": [
    {
     "data": {
      "text/plain": [
       "'   Hello everyone  '"
      ]
     },
     "execution_count": 84,
     "metadata": {},
     "output_type": "execute_result"
    }
   ],
   "source": [
    "mystr2=\"   Hello everyone  \"\n",
    "\n",
    "mystr2"
   ]
  },
  {
   "cell_type": "code",
   "execution_count": 85,
   "id": "14f3ed14",
   "metadata": {},
   "outputs": [
    {
     "data": {
      "text/plain": [
       "'Hello everyone'"
      ]
     },
     "execution_count": 85,
     "metadata": {},
     "output_type": "execute_result"
    }
   ],
   "source": [
    "mystr2.strip()#removes white spaces from begining and end\n"
   ]
  },
  {
   "cell_type": "code",
   "execution_count": 86,
   "id": "ee1eaf41",
   "metadata": {},
   "outputs": [
    {
     "data": {
      "text/plain": [
       "'   Hello everyone'"
      ]
     },
     "execution_count": 86,
     "metadata": {},
     "output_type": "execute_result"
    }
   ],
   "source": [
    "mystr2.rstrip()\n",
    "#removes all white spaces from the end of the string"
   ]
  },
  {
   "cell_type": "code",
   "execution_count": 87,
   "id": "1d937ad8",
   "metadata": {},
   "outputs": [
    {
     "data": {
      "text/plain": [
       "'Hello everyone  '"
      ]
     },
     "execution_count": 87,
     "metadata": {},
     "output_type": "execute_result"
    }
   ],
   "source": [
    "mystr2.lstrip()#removes all whitespaces at the begining of thestring"
   ]
  },
  {
   "cell_type": "code",
   "execution_count": 89,
   "id": "1230864e",
   "metadata": {},
   "outputs": [
    {
     "data": {
      "text/plain": [
       "'************Hello everyone*******************ALL THE BEST*******'"
      ]
     },
     "execution_count": 89,
     "metadata": {},
     "output_type": "execute_result"
    }
   ],
   "source": [
    "mystr2=\"************Hello everyone*******************ALL THE BEST*******\"\n",
    "mystr2"
   ]
  },
  {
   "cell_type": "code",
   "execution_count": 90,
   "id": "d27a4f64",
   "metadata": {},
   "outputs": [
    {
     "data": {
      "text/plain": [
       "'Hello everyone*******************ALL THE BEST'"
      ]
     },
     "execution_count": 90,
     "metadata": {},
     "output_type": "execute_result"
    }
   ],
   "source": [
    "mystr2.strip('*')\n",
    "#removes all asterick characters from begining& end of the string"
   ]
  },
  {
   "cell_type": "code",
   "execution_count": 91,
   "id": "5ad9a6c5",
   "metadata": {},
   "outputs": [
    {
     "data": {
      "text/plain": [
       "'************Hello everyone*******************ALL THE BEST'"
      ]
     },
     "execution_count": 91,
     "metadata": {},
     "output_type": "execute_result"
    }
   ],
   "source": [
    "mystr2.rstrip('*') \n",
    "#removes all * characters at the end of the string"
   ]
  },
  {
   "cell_type": "code",
   "execution_count": 92,
   "id": "b3da6b2e",
   "metadata": {},
   "outputs": [
    {
     "data": {
      "text/plain": [
       "'Hello everyone*******************ALL THE BEST*******'"
      ]
     },
     "execution_count": 92,
     "metadata": {},
     "output_type": "execute_result"
    }
   ],
   "source": [
    "mystr2.lstrip('*')\n",
    "# removes all * at the begining of string"
   ]
  },
  {
   "cell_type": "code",
   "execution_count": 93,
   "id": "7e1fa50a",
   "metadata": {},
   "outputs": [],
   "source": [
    "mystr2=\" Hello Everyone \""
   ]
  },
  {
   "cell_type": "code",
   "execution_count": 94,
   "id": "5f754ef2",
   "metadata": {},
   "outputs": [
    {
     "data": {
      "text/plain": [
       "' hello everyone '"
      ]
     },
     "execution_count": 94,
     "metadata": {},
     "output_type": "execute_result"
    }
   ],
   "source": [
    "mystr2.lower()#return whole string in lower case"
   ]
  },
  {
   "cell_type": "code",
   "execution_count": 95,
   "id": "bdee3a73",
   "metadata": {},
   "outputs": [
    {
     "data": {
      "text/plain": [
       "' HELLO EVERYONE '"
      ]
     },
     "execution_count": 95,
     "metadata": {},
     "output_type": "execute_result"
    }
   ],
   "source": [
    "mystr2.upper()#returns all string in uppercase"
   ]
  },
  {
   "cell_type": "code",
   "execution_count": 96,
   "id": "3c6cc216",
   "metadata": {},
   "outputs": [
    {
     "data": {
      "text/plain": [
       "' Hollow Everyone '"
      ]
     },
     "execution_count": 96,
     "metadata": {},
     "output_type": "execute_result"
    }
   ],
   "source": [
    "mystr2.replace('Hello','Hollow')\n",
    "# replace substring hello with hollow\n"
   ]
  },
  {
   "cell_type": "code",
   "execution_count": 98,
   "id": "93cd9796",
   "metadata": {},
   "outputs": [
    {
     "data": {
      "text/plain": [
       "' Hello Everyone '"
      ]
     },
     "execution_count": 98,
     "metadata": {},
     "output_type": "execute_result"
    }
   ],
   "source": [
    "mystr2.replace(\" \",\" \")# removes all white spaces using repalce function"
   ]
  },
  {
   "cell_type": "code",
   "execution_count": 99,
   "id": "6454c0df",
   "metadata": {},
   "outputs": [],
   "source": [
    "mystr5=\"one two three one two two three\""
   ]
  },
  {
   "cell_type": "code",
   "execution_count": 100,
   "id": "19d6f1ca",
   "metadata": {},
   "outputs": [
    {
     "data": {
      "text/plain": [
       "2"
      ]
     },
     "execution_count": 100,
     "metadata": {},
     "output_type": "execute_result"
    }
   ],
   "source": [
    "mystr5.count(\"one\")#number of times string\"one\" occured in string"
   ]
  },
  {
   "cell_type": "code",
   "execution_count": 101,
   "id": "1df66fb7",
   "metadata": {},
   "outputs": [
    {
     "data": {
      "text/plain": [
       "True"
      ]
     },
     "execution_count": 101,
     "metadata": {},
     "output_type": "execute_result"
    }
   ],
   "source": [
    "mystr5.startswith(\"one\")"
   ]
  },
  {
   "cell_type": "code",
   "execution_count": 102,
   "id": "2ffc7fd5",
   "metadata": {},
   "outputs": [
    {
     "data": {
      "text/plain": [
       "True"
      ]
     },
     "execution_count": 102,
     "metadata": {},
     "output_type": "execute_result"
    }
   ],
   "source": [
    "mystr5.endswith(\"three\")"
   ]
  },
  {
   "cell_type": "code",
   "execution_count": 103,
   "id": "cffc91dd",
   "metadata": {},
   "outputs": [],
   "source": [
    "mystr4=\" one two three four five six seven eight nine ten\""
   ]
  },
  {
   "cell_type": "code",
   "execution_count": 104,
   "id": "8e63ff89",
   "metadata": {},
   "outputs": [
    {
     "data": {
      "text/plain": [
       "['one', 'two', 'three', 'four', 'five', 'six', 'seven', 'eight', 'nine', 'ten']"
      ]
     },
     "execution_count": 104,
     "metadata": {},
     "output_type": "execute_result"
    }
   ],
   "source": [
    "mylist=mystr4.split()#split string into substring\n",
    "mylist"
   ]
  },
  {
   "cell_type": "code",
   "execution_count": 108,
   "id": "a655bcc5",
   "metadata": {},
   "outputs": [
    {
     "name": "stdout",
     "output_type": "stream",
     "text": [
      "cost of item1,item2 and item3 are 40,55 and 77\n"
     ]
    }
   ],
   "source": [
    "#combining string & numbers using format method\n",
    "item1=40\n",
    "item2=55\n",
    "item3=77\n",
    "\n",
    "res=\"cost of item1,item2 and item3 are {},{} and {}\"\n",
    "\n",
    "print(res.format(item1,item2,item3))"
   ]
  },
  {
   "cell_type": "code",
   "execution_count": 109,
   "id": "f3939fac",
   "metadata": {},
   "outputs": [
    {
     "name": "stdout",
     "output_type": "stream",
     "text": [
      "cost of item3,item2 and item1 are77,55 and 40\n"
     ]
    }
   ],
   "source": [
    "#combinig string & numbers using format method\n",
    "item1=40\n",
    "item2=55\n",
    "item3=77\n",
    "\n",
    "res=\"cost of item3,item2 and item1 are{2},{1} and {0}\"\n",
    "\n",
    "print(res.format(item1,item2,item3))"
   ]
  },
  {
   "cell_type": "code",
   "execution_count": 1,
   "id": "5f3c8573",
   "metadata": {},
   "outputs": [
    {
     "name": "stdout",
     "output_type": "stream",
     "text": [
      "                                          WELCOME EVERYONE                                          \n"
     ]
    }
   ],
   "source": [
    "str2=\"WELCOME EVERYONE\"\n",
    "str2=str2.center(100 )\n",
    "#centre align the string using a specific character\n",
    "print(str2)"
   ]
  },
  {
   "cell_type": "code",
   "execution_count": 2,
   "id": "38b3bc9e",
   "metadata": {},
   "outputs": [
    {
     "name": "stdout",
     "output_type": "stream",
     "text": [
      "**********************************************************************************WELCOME EVERYONE**********************************************************************************\n"
     ]
    }
   ],
   "source": [
    "str2=\"WELCOME EVERYONE\"\n",
    "str2=str2.center(180,'*')\n",
    "print(str2)\n"
   ]
  },
  {
   "cell_type": "code",
   "execution_count": 4,
   "id": "b05d9161",
   "metadata": {},
   "outputs": [
    {
     "name": "stdout",
     "output_type": "stream",
     "text": [
      "                                  WELCOME EVERYONE\n"
     ]
    }
   ],
   "source": [
    "str2=\"WELCOME EVERYONE\"\n",
    "str2=str2.rjust(50)#right align the string using a special character\n",
    "print(str2)"
   ]
  },
  {
   "cell_type": "code",
   "execution_count": 5,
   "id": "6786208f",
   "metadata": {},
   "outputs": [
    {
     "name": "stdout",
     "output_type": "stream",
     "text": [
      "**********************************WELCOME EVERYONE\n"
     ]
    }
   ],
   "source": [
    "str2=\"WELCOME EVERYONE\"\n",
    "str2=str2.rjust(50,'*')\n",
    "print(str2)"
   ]
  },
  {
   "cell_type": "code",
   "execution_count": 6,
   "id": "3f68bd20",
   "metadata": {},
   "outputs": [
    {
     "name": "stdout",
     "output_type": "stream",
     "text": [
      "19\n"
     ]
    }
   ],
   "source": [
    "str4=\"one two three four five six seven\"\n",
    "loc=str4.find(\"five\")\n",
    "#find the location of word \"five\" in the string\n",
    "print(loc)"
   ]
  },
  {
   "cell_type": "code",
   "execution_count": 7,
   "id": "9b87b823",
   "metadata": {},
   "outputs": [
    {
     "name": "stdout",
     "output_type": "stream",
     "text": [
      "19\n"
     ]
    }
   ],
   "source": [
    "str4=\"one two three four five six seven\"\n",
    "loc=str4.index(\"five\")\n",
    "print(loc)"
   ]
  },
  {
   "cell_type": "code",
   "execution_count": 8,
   "id": "aaa69b77",
   "metadata": {},
   "outputs": [
    {
     "name": "stdout",
     "output_type": "stream",
     "text": [
      "False\n",
      "True\n",
      "True\n",
      "True\n"
     ]
    }
   ],
   "source": [
    "mystr6=\"123456789\"\n",
    "print(mystr6.isalpha())#returns true if all the characters in the text are letters\n",
    "print(mystr6.isalnum())#returns true if a string contains only letters or num\n",
    "print(mystr6.isdecimal())#returns true if all the characters are decimals\n",
    "print(mystr6.isnumeric())#returns true if all the characters are numeric"
   ]
  },
  {
   "cell_type": "code",
   "execution_count": 9,
   "id": "bd4ed44d",
   "metadata": {},
   "outputs": [
    {
     "name": "stdout",
     "output_type": "stream",
     "text": [
      "True\n",
      "True\n",
      "False\n",
      "True\n"
     ]
    }
   ],
   "source": [
    "mystr6=\"abcde\"\n",
    "print(mystr6.isalpha())#returns true if all the characters are letters\n",
    "print(mystr6.isalnum())#returns true if a string contains only letters and numvers\n",
    "print(mystr6.isdecimal())#returns true if all the characters are decimal\n",
    "print(mystr6.isalnum())#returns true if all the characters are numeric"
   ]
  },
  {
   "cell_type": "code",
   "execution_count": 10,
   "id": "da89ed7b",
   "metadata": {},
   "outputs": [
    {
     "name": "stdout",
     "output_type": "stream",
     "text": [
      "False\n",
      "True\n",
      "False\n",
      "True\n"
     ]
    }
   ],
   "source": [
    "mystr6='abc12309'\n",
    "print(mystr6.isalpha())#returns true if all the characters are letters\n",
    "print(mystr6.isalnum())#returns true if a string contains only letters and numvers\n",
    "print(mystr6.isdecimal())#returns true if all the characters are decimal\n",
    "print(mystr6.isalnum())#returns true if all the characters are numeric"
   ]
  },
  {
   "cell_type": "code",
   "execution_count": 11,
   "id": "8e5dc4be",
   "metadata": {},
   "outputs": [
    {
     "name": "stdout",
     "output_type": "stream",
     "text": [
      "True\n",
      "False\n"
     ]
    }
   ],
   "source": [
    "mystr7='ABCDEF'\n",
    "print(mystr7.isupper())\n",
    "#returns true if all the characters are in uppercase\n",
    "print(mystr7.islower())\n",
    "#returns true if all the characters are in lower case"
   ]
  },
  {
   "cell_type": "code",
   "execution_count": 12,
   "id": "b73cd3f2",
   "metadata": {},
   "outputs": [
    {
     "name": "stdout",
     "output_type": "stream",
     "text": [
      "False\n",
      "True\n"
     ]
    }
   ],
   "source": [
    "mystr8='abcdef'\n",
    "print(mystr8.isupper())#returns true if allthe characters are in upper case\n",
    "print(mystr8.islower())#returns true if all the characters are in lower case\n"
   ]
  },
  {
   "cell_type": "code",
   "execution_count": 13,
   "id": "5245a358",
   "metadata": {},
   "outputs": [],
   "source": [
    "str6=\"one two three four one two two three five five six one ten eight ten nine\"\n",
    "loc=str6.rfind(\"one\")#last occurence of word in string"
   ]
  },
  {
   "cell_type": "code",
   "execution_count": 14,
   "id": "be946b89",
   "metadata": {},
   "outputs": [
    {
     "name": "stdout",
     "output_type": "stream",
     "text": [
      "51\n"
     ]
    }
   ],
   "source": [
    "loc=str6.rindex(\"one\")#laste occerence of word one in string\n",
    "print(loc)"
   ]
  },
  {
   "cell_type": "code",
   "execution_count": 15,
   "id": "f387c622",
   "metadata": {},
   "outputs": [
    {
     "data": {
      "text/plain": [
       "'  abc def ghi'"
      ]
     },
     "execution_count": 15,
     "metadata": {},
     "output_type": "execute_result"
    }
   ],
   "source": [
    "text=\"  abc def ghi  \"\n",
    "text.rstrip()"
   ]
  },
  {
   "cell_type": "code",
   "execution_count": 17,
   "id": "7f9271e7",
   "metadata": {},
   "outputs": [
    {
     "data": {
      "text/plain": [
       "'abc def ghi  '"
      ]
     },
     "execution_count": 17,
     "metadata": {},
     "output_type": "execute_result"
    }
   ],
   "source": [
    "text=\"  abc def ghi  \"\n",
    "text.lstrip()"
   ]
  },
  {
   "cell_type": "code",
   "execution_count": 18,
   "id": "5470a7fd",
   "metadata": {},
   "outputs": [
    {
     "data": {
      "text/plain": [
       "'abc def ghi'"
      ]
     },
     "execution_count": 18,
     "metadata": {},
     "output_type": "execute_result"
    }
   ],
   "source": [
    "text=\"  abc def ghi  \"\n",
    "text.strip()"
   ]
  },
  {
   "cell_type": "markdown",
   "id": "7dd0e533",
   "metadata": {},
   "source": [
    "# using escape character"
   ]
  },
  {
   "cell_type": "code",
   "execution_count": 19,
   "id": "3c5c6ac0",
   "metadata": {},
   "outputs": [
    {
     "ename": "SyntaxError",
     "evalue": "invalid syntax (1591027035.py, line 2)",
     "output_type": "error",
     "traceback": [
      "\u001b[1;36m  Cell \u001b[1;32mIn[19], line 2\u001b[1;36m\u001b[0m\n\u001b[1;33m    mystr=\"my favouring tv series is \"game of thrones\"\"\u001b[0m\n\u001b[1;37m                                      ^\u001b[0m\n\u001b[1;31mSyntaxError\u001b[0m\u001b[1;31m:\u001b[0m invalid syntax\n"
     ]
    }
   ],
   "source": [
    "#using double quotes in the string is not allowed.\n",
    "mystr=\"my favouring tv series is \"game of thrones\"\""
   ]
  },
  {
   "cell_type": "code",
   "execution_count": 23,
   "id": "c9d9f621",
   "metadata": {},
   "outputs": [
    {
     "name": "stdout",
     "output_type": "stream",
     "text": [
      "my favourite seris is \"game of throne\"\n"
     ]
    }
   ],
   "source": [
    "#using escape character to allow illegal characters\n",
    "mystr=\"my favourite seris is \\\"game of throne\\\"\"\n",
    "print(mystr)"
   ]
  },
  {
   "cell_type": "markdown",
   "id": "2fbfa31f",
   "metadata": {},
   "source": [
    "# List\n",
    "1)list is an ordered sequence of items\n",
    "2)we can have different data types under alist.\n",
    "Eg:we can have integer,float and string items in a same list"
   ]
  },
  {
   "cell_type": "markdown",
   "id": "d3118c9e",
   "metadata": {},
   "source": [
    "## list creation"
   ]
  },
  {
   "cell_type": "code",
   "execution_count": 24,
   "id": "a051f375",
   "metadata": {},
   "outputs": [],
   "source": [
    "list1=[] #empty list"
   ]
  },
  {
   "cell_type": "code",
   "execution_count": 25,
   "id": "b6ea3e07",
   "metadata": {},
   "outputs": [
    {
     "name": "stdout",
     "output_type": "stream",
     "text": [
      "<class 'list'>\n"
     ]
    }
   ],
   "source": [
    "print(type(list1))"
   ]
  },
  {
   "cell_type": "code",
   "execution_count": 26,
   "id": "3d66004d",
   "metadata": {},
   "outputs": [],
   "source": [
    "list2=[10,30,60]#list of integer numbers"
   ]
  },
  {
   "cell_type": "code",
   "execution_count": 27,
   "id": "e62204af",
   "metadata": {},
   "outputs": [],
   "source": [
    "list3=[10.77,30.66,60.89]# list of float numbers"
   ]
  },
  {
   "cell_type": "code",
   "execution_count": 28,
   "id": "74affbbc",
   "metadata": {},
   "outputs": [],
   "source": [
    "list4=['one','two','three']#list of strings"
   ]
  },
  {
   "cell_type": "code",
   "execution_count": 29,
   "id": "eca95802",
   "metadata": {},
   "outputs": [],
   "source": [
    "list5=['asif',25,[50,100],[150,90]]#mested list"
   ]
  },
  {
   "cell_type": "code",
   "execution_count": 30,
   "id": "12a068fc",
   "metadata": {},
   "outputs": [],
   "source": [
    "list6=['asif',25,[50,100],[150,90],{'john','david'}]"
   ]
  },
  {
   "cell_type": "code",
   "execution_count": 31,
   "id": "36864f5f",
   "metadata": {},
   "outputs": [],
   "source": [
    "list7=[100,'asif',17,763]# list of mixed data types"
   ]
  },
  {
   "cell_type": "code",
   "execution_count": 32,
   "id": "51a5dc13",
   "metadata": {},
   "outputs": [
    {
     "data": {
      "text/plain": [
       "5"
      ]
     },
     "execution_count": 32,
     "metadata": {},
     "output_type": "execute_result"
    }
   ],
   "source": [
    "len(list6)"
   ]
  },
  {
   "cell_type": "markdown",
   "id": "82baa74a",
   "metadata": {},
   "source": [
    "# list indexing\n",
    "forward and backwrd indexing"
   ]
  },
  {
   "cell_type": "code",
   "execution_count": 33,
   "id": "289937e0",
   "metadata": {},
   "outputs": [
    {
     "data": {
      "text/plain": [
       "10"
      ]
     },
     "execution_count": 33,
     "metadata": {},
     "output_type": "execute_result"
    }
   ],
   "source": [
    "list2[0]#retreive first element of list"
   ]
  },
  {
   "cell_type": "code",
   "execution_count": 34,
   "id": "5dae710b",
   "metadata": {},
   "outputs": [
    {
     "data": {
      "text/plain": [
       "[150, 90]"
      ]
     },
     "execution_count": 34,
     "metadata": {},
     "output_type": "execute_result"
    }
   ],
   "source": [
    "list6[3]# retreive fouth element"
   ]
  },
  {
   "cell_type": "code",
   "execution_count": 35,
   "id": "86333735",
   "metadata": {},
   "outputs": [
    {
     "data": {
      "text/plain": [
       "'o'"
      ]
     },
     "execution_count": 35,
     "metadata": {},
     "output_type": "execute_result"
    }
   ],
   "source": [
    "list4[0][0]\n",
    "#nested indexing:access the first character of first list element"
   ]
  },
  {
   "cell_type": "code",
   "execution_count": 36,
   "id": "92b4144f",
   "metadata": {},
   "outputs": [
    {
     "data": {
      "text/plain": [
       "'three'"
      ]
     },
     "execution_count": 36,
     "metadata": {},
     "output_type": "execute_result"
    }
   ],
   "source": [
    "list4[-1]#last item of the list"
   ]
  },
  {
   "cell_type": "code",
   "execution_count": 37,
   "id": "6e2b0efc",
   "metadata": {},
   "outputs": [
    {
     "data": {
      "text/plain": [
       "[150, 90]"
      ]
     },
     "execution_count": 37,
     "metadata": {},
     "output_type": "execute_result"
    }
   ],
   "source": [
    "list5[-1]"
   ]
  },
  {
   "cell_type": "markdown",
   "id": "d45078f6",
   "metadata": {},
   "source": [
    "# list slicing\n"
   ]
  },
  {
   "cell_type": "code",
   "execution_count": 38,
   "id": "bbf600c9",
   "metadata": {},
   "outputs": [],
   "source": [
    "mylist=['one','two','three','four','five','six','seven','eight']"
   ]
  },
  {
   "cell_type": "code",
   "execution_count": 39,
   "id": "f70ab9a5",
   "metadata": {},
   "outputs": [
    {
     "data": {
      "text/plain": [
       "['one', 'two', 'three']"
      ]
     },
     "execution_count": 39,
     "metadata": {},
     "output_type": "execute_result"
    }
   ],
   "source": [
    "mylist[0:3]#return all items from 0th to 3rd index location excluding the iten"
   ]
  },
  {
   "cell_type": "code",
   "execution_count": 40,
   "id": "ba714740",
   "metadata": {},
   "outputs": [
    {
     "data": {
      "text/plain": [
       "['three', 'four', 'five']"
      ]
     },
     "execution_count": 40,
     "metadata": {},
     "output_type": "execute_result"
    }
   ],
   "source": [
    "mylist[2:5]#llist all items from 2nd to 5th index location excluding the item"
   ]
  },
  {
   "cell_type": "code",
   "execution_count": 41,
   "id": "b8266e99",
   "metadata": {},
   "outputs": [
    {
     "data": {
      "text/plain": [
       "['one', 'two', 'three']"
      ]
     },
     "execution_count": 41,
     "metadata": {},
     "output_type": "execute_result"
    }
   ],
   "source": [
    "mylist[0:3]#return first three items"
   ]
  },
  {
   "cell_type": "code",
   "execution_count": 42,
   "id": "46b25383",
   "metadata": {},
   "outputs": [
    {
     "data": {
      "text/plain": [
       "['six', 'seven', 'eight']"
      ]
     },
     "execution_count": 42,
     "metadata": {},
     "output_type": "execute_result"
    }
   ],
   "source": [
    "mylist[-3:]#reurn last three items"
   ]
  },
  {
   "cell_type": "code",
   "execution_count": 43,
   "id": "002bb782",
   "metadata": {},
   "outputs": [
    {
     "data": {
      "text/plain": [
       "['seven', 'eight']"
      ]
     },
     "execution_count": 43,
     "metadata": {},
     "output_type": "execute_result"
    }
   ],
   "source": [
    "mylist[-2:]# return first two items"
   ]
  },
  {
   "cell_type": "code",
   "execution_count": 44,
   "id": "32b00992",
   "metadata": {},
   "outputs": [
    {
     "data": {
      "text/plain": [
       "'eight'"
      ]
     },
     "execution_count": 44,
     "metadata": {},
     "output_type": "execute_result"
    }
   ],
   "source": [
    "mylist[-1]#return last item of the list"
   ]
  },
  {
   "cell_type": "code",
   "execution_count": 45,
   "id": "98b78027",
   "metadata": {},
   "outputs": [
    {
     "data": {
      "text/plain": [
       "['one', 'two', 'three', 'four', 'five', 'six', 'seven', 'eight']"
      ]
     },
     "execution_count": 45,
     "metadata": {},
     "output_type": "execute_result"
    }
   ],
   "source": [
    "mylist[:]#rerurn whole list"
   ]
  },
  {
   "cell_type": "markdown",
   "id": "1f3fa31f",
   "metadata": {},
   "source": [
    "# Add,Remove& Change items"
   ]
  },
  {
   "cell_type": "code",
   "execution_count": 46,
   "id": "fd4677f4",
   "metadata": {},
   "outputs": [
    {
     "data": {
      "text/plain": [
       "['one', 'two', 'three', 'four', 'five', 'six', 'seven', 'eight']"
      ]
     },
     "execution_count": 46,
     "metadata": {},
     "output_type": "execute_result"
    }
   ],
   "source": [
    "mylist"
   ]
  },
  {
   "cell_type": "code",
   "execution_count": 47,
   "id": "e0d3b7c2",
   "metadata": {},
   "outputs": [
    {
     "data": {
      "text/plain": [
       "['one', 'two', 'three', 'four', 'five', 'six', 'seven', 'eight', 'nine']"
      ]
     },
     "execution_count": 47,
     "metadata": {},
     "output_type": "execute_result"
    }
   ],
   "source": [
    "mylist.append('nine')#add an item to the end of the list\n",
    "mylist"
   ]
  },
  {
   "cell_type": "code",
   "execution_count": 48,
   "id": "feb7b49e",
   "metadata": {},
   "outputs": [],
   "source": [
    "mylist.insert(9,'ten')# add item at index location 9"
   ]
  },
  {
   "cell_type": "code",
   "execution_count": 49,
   "id": "48644ce2",
   "metadata": {},
   "outputs": [
    {
     "data": {
      "text/plain": [
       "['one',\n",
       " 'ONE',\n",
       " 'two',\n",
       " 'three',\n",
       " 'four',\n",
       " 'five',\n",
       " 'six',\n",
       " 'seven',\n",
       " 'eight',\n",
       " 'nine',\n",
       " 'ten']"
      ]
     },
     "execution_count": 49,
     "metadata": {},
     "output_type": "execute_result"
    }
   ],
   "source": [
    "mylist.insert(1,'ONE')# add item at index location 1\n",
    "mylist"
   ]
  },
  {
   "cell_type": "code",
   "execution_count": 50,
   "id": "94b24a91",
   "metadata": {},
   "outputs": [
    {
     "data": {
      "text/plain": [
       "['one', 'two', 'three', 'four', 'five', 'six', 'seven', 'eight', 'nine', 'ten']"
      ]
     },
     "execution_count": 50,
     "metadata": {},
     "output_type": "execute_result"
    }
   ],
   "source": [
    "mylist.remove(\"ONE\")#remove item ONE\n",
    "mylist"
   ]
  },
  {
   "cell_type": "code",
   "execution_count": 51,
   "id": "884f5a13",
   "metadata": {},
   "outputs": [
    {
     "data": {
      "text/plain": [
       "['one', 'two', 'three', 'four', 'five', 'six', 'seven', 'eight', 'nine']"
      ]
     },
     "execution_count": 51,
     "metadata": {},
     "output_type": "execute_result"
    }
   ],
   "source": [
    "mylist.pop()#remove last item of the list\n",
    "mylist"
   ]
  },
  {
   "cell_type": "code",
   "execution_count": 52,
   "id": "1a31ead4",
   "metadata": {},
   "outputs": [
    {
     "data": {
      "text/plain": [
       "'nine'"
      ]
     },
     "execution_count": 52,
     "metadata": {},
     "output_type": "execute_result"
    }
   ],
   "source": [
    "mylist.pop(8)#remove item at index location 8"
   ]
  },
  {
   "cell_type": "code",
   "execution_count": 55,
   "id": "94b2dda4",
   "metadata": {},
   "outputs": [
    {
     "data": {
      "text/plain": [
       "['one', 'two', 'three', 'four', 'six', 'seven']"
      ]
     },
     "execution_count": 55,
     "metadata": {},
     "output_type": "execute_result"
    }
   ],
   "source": [
    "del mylist[4]#remove item at index location 7\n",
    "mylist"
   ]
  },
  {
   "cell_type": "code",
   "execution_count": 57,
   "id": "8965ccc4",
   "metadata": {},
   "outputs": [
    {
     "data": {
      "text/plain": [
       "[1, 2, 3, 'four', 'six', 'seven']"
      ]
     },
     "execution_count": 57,
     "metadata": {},
     "output_type": "execute_result"
    }
   ],
   "source": [
    "# change value of the string\n",
    "mylist[0]=1\n",
    "mylist[1]=2\n",
    "mylist[2]=3\n",
    "mylist"
   ]
  },
  {
   "cell_type": "code",
   "execution_count": 58,
   "id": "d44a4d1b",
   "metadata": {},
   "outputs": [
    {
     "data": {
      "text/plain": [
       "[]"
      ]
     },
     "execution_count": 58,
     "metadata": {},
     "output_type": "execute_result"
    }
   ],
   "source": [
    "mylist.clear()# deletes all items in the list\n",
    "mylist"
   ]
  },
  {
   "cell_type": "code",
   "execution_count": 59,
   "id": "6d644e44",
   "metadata": {},
   "outputs": [
    {
     "ename": "NameError",
     "evalue": "name 'mylist' is not defined",
     "output_type": "error",
     "traceback": [
      "\u001b[1;31m---------------------------------------------------------------------------\u001b[0m",
      "\u001b[1;31mNameError\u001b[0m                                 Traceback (most recent call last)",
      "Cell \u001b[1;32mIn[59], line 2\u001b[0m\n\u001b[0;32m      1\u001b[0m \u001b[38;5;28;01mdel\u001b[39;00m mylist \u001b[38;5;66;03m#delete the whole list\u001b[39;00m\n\u001b[1;32m----> 2\u001b[0m \u001b[43mmylist\u001b[49m\n",
      "\u001b[1;31mNameError\u001b[0m: name 'mylist' is not defined"
     ]
    }
   ],
   "source": [
    "del mylist #delete the whole list\n",
    "mylist"
   ]
  },
  {
   "cell_type": "markdown",
   "id": "aedbc842",
   "metadata": {},
   "source": [
    "# copy list"
   ]
  },
  {
   "cell_type": "code",
   "execution_count": 64,
   "id": "dba6367f",
   "metadata": {},
   "outputs": [],
   "source": [
    "mylist=['one','two','three','four','five','six','seven','eight','nine']"
   ]
  },
  {
   "cell_type": "code",
   "execution_count": 65,
   "id": "c092fdc0",
   "metadata": {},
   "outputs": [],
   "source": [
    "mylist1=mylist #create a new reference new list1"
   ]
  },
  {
   "cell_type": "code",
   "execution_count": 66,
   "id": "f8b3c823",
   "metadata": {},
   "outputs": [
    {
     "data": {
      "text/plain": [
       "(1900244592640, 1900244592640)"
      ]
     },
     "execution_count": 66,
     "metadata": {},
     "output_type": "execute_result"
    }
   ],
   "source": [
    "id(mylist),id(mylist1)#addres of both mylist & mylist1 is same"
   ]
  },
  {
   "cell_type": "code",
   "execution_count": 67,
   "id": "45bf090a",
   "metadata": {},
   "outputs": [],
   "source": [
    "mylist2=mylist.copy()#create a copy of list"
   ]
  },
  {
   "cell_type": "code",
   "execution_count": 68,
   "id": "a1b10783",
   "metadata": {},
   "outputs": [
    {
     "data": {
      "text/plain": [
       "1900244768960"
      ]
     },
     "execution_count": 68,
     "metadata": {},
     "output_type": "execute_result"
    }
   ],
   "source": [
    "id(mylist2)#address of mylist2 will be different from mylist"
   ]
  },
  {
   "cell_type": "code",
   "execution_count": 69,
   "id": "19005c7b",
   "metadata": {},
   "outputs": [],
   "source": [
    "mylist[0]=1"
   ]
  },
  {
   "cell_type": "code",
   "execution_count": 70,
   "id": "095026a8",
   "metadata": {},
   "outputs": [
    {
     "data": {
      "text/plain": [
       "[1, 'two', 'three', 'four', 'five', 'six', 'seven', 'eight', 'nine']"
      ]
     },
     "execution_count": 70,
     "metadata": {},
     "output_type": "execute_result"
    }
   ],
   "source": [
    "mylist"
   ]
  },
  {
   "cell_type": "code",
   "execution_count": 71,
   "id": "c6b751e9",
   "metadata": {},
   "outputs": [
    {
     "data": {
      "text/plain": [
       "[1, 'two', 'three', 'four', 'five', 'six', 'seven', 'eight', 'nine']"
      ]
     },
     "execution_count": 71,
     "metadata": {},
     "output_type": "execute_result"
    }
   ],
   "source": [
    "mylist1 #mylist1 will also be impacted as it is pointing at same list"
   ]
  },
  {
   "cell_type": "code",
   "execution_count": 72,
   "id": "fcf77c4e",
   "metadata": {},
   "outputs": [
    {
     "data": {
      "text/plain": [
       "['one', 'two', 'three', 'four', 'five', 'six', 'seven', 'eight', 'nine']"
      ]
     },
     "execution_count": 72,
     "metadata": {},
     "output_type": "execute_result"
    }
   ],
   "source": [
    "mylist2 #copy of list wont be impacted due to changes made on the original list"
   ]
  },
  {
   "cell_type": "markdown",
   "id": "9e8214ad",
   "metadata": {},
   "source": [
    "# join lists"
   ]
  },
  {
   "cell_type": "code",
   "execution_count": 73,
   "id": "4faa4766",
   "metadata": {},
   "outputs": [],
   "source": [
    "list1=['one','two','three','four']\n",
    "list2=['five','six','seven','eight']"
   ]
  },
  {
   "cell_type": "code",
   "execution_count": 75,
   "id": "24485ede",
   "metadata": {},
   "outputs": [
    {
     "data": {
      "text/plain": [
       "['one', 'two', 'three', 'four', 'five', 'six', 'seven', 'eight']"
      ]
     },
     "execution_count": 75,
     "metadata": {},
     "output_type": "execute_result"
    }
   ],
   "source": [
    "list3=list1+list2 #join two list by + operator\n",
    "list3"
   ]
  },
  {
   "cell_type": "code",
   "execution_count": 77,
   "id": "34645ea2",
   "metadata": {},
   "outputs": [
    {
     "data": {
      "text/plain": [
       "['one',\n",
       " 'two',\n",
       " 'three',\n",
       " 'four',\n",
       " 'five',\n",
       " 'six',\n",
       " 'seven',\n",
       " 'eight',\n",
       " 'five',\n",
       " 'six',\n",
       " 'seven',\n",
       " 'eight']"
      ]
     },
     "execution_count": 77,
     "metadata": {},
     "output_type": "execute_result"
    }
   ],
   "source": [
    "list1.extend(list2)#append list2 with list1\n",
    "list1"
   ]
  },
  {
   "cell_type": "markdown",
   "id": "8f092c2c",
   "metadata": {},
   "source": [
    "# List membership"
   ]
  },
  {
   "cell_type": "code",
   "execution_count": 78,
   "id": "5298ae7a",
   "metadata": {},
   "outputs": [
    {
     "data": {
      "text/plain": [
       "['one',\n",
       " 'two',\n",
       " 'three',\n",
       " 'four',\n",
       " 'five',\n",
       " 'six',\n",
       " 'seven',\n",
       " 'eight',\n",
       " 'five',\n",
       " 'six',\n",
       " 'seven',\n",
       " 'eight']"
      ]
     },
     "execution_count": 78,
     "metadata": {},
     "output_type": "execute_result"
    }
   ],
   "source": [
    "list1"
   ]
  },
  {
   "cell_type": "code",
   "execution_count": 79,
   "id": "1c139353",
   "metadata": {},
   "outputs": [
    {
     "data": {
      "text/plain": [
       "True"
      ]
     },
     "execution_count": 79,
     "metadata": {},
     "output_type": "execute_result"
    }
   ],
   "source": [
    "'one' in list1 #check if 'one'exists in the list"
   ]
  },
  {
   "cell_type": "code",
   "execution_count": 80,
   "id": "9f786692",
   "metadata": {},
   "outputs": [
    {
     "data": {
      "text/plain": [
       "False"
      ]
     },
     "execution_count": 80,
     "metadata": {},
     "output_type": "execute_result"
    }
   ],
   "source": [
    "'ten' in  list1 #check if 'ten' exists in list"
   ]
  },
  {
   "cell_type": "code",
   "execution_count": 81,
   "id": "89ebb274",
   "metadata": {},
   "outputs": [
    {
     "name": "stdout",
     "output_type": "stream",
     "text": [
      "three  is present in list\n"
     ]
    }
   ],
   "source": [
    "if 'three' in list1:\n",
    "    #check if three exist in list\n",
    "    print('three  is present in list')\n",
    "else:\n",
    "    print('three is present in list')"
   ]
  },
  {
   "cell_type": "code",
   "execution_count": 82,
   "id": "73e161dc",
   "metadata": {},
   "outputs": [
    {
     "name": "stdout",
     "output_type": "stream",
     "text": [
      "eleven is nor present in the list\n"
     ]
    }
   ],
   "source": [
    "if 'eleven' in list1:\n",
    "    print('eleven is present in the list')\n",
    "else:\n",
    "    print('eleven is nor present in the list')"
   ]
  },
  {
   "cell_type": "markdown",
   "id": "ca90a2aa",
   "metadata": {},
   "source": [
    "# Reverse & sort list"
   ]
  },
  {
   "cell_type": "code",
   "execution_count": 83,
   "id": "e701c415",
   "metadata": {},
   "outputs": [
    {
     "data": {
      "text/plain": [
       "['one',\n",
       " 'two',\n",
       " 'three',\n",
       " 'four',\n",
       " 'five',\n",
       " 'six',\n",
       " 'seven',\n",
       " 'eight',\n",
       " 'five',\n",
       " 'six',\n",
       " 'seven',\n",
       " 'eight']"
      ]
     },
     "execution_count": 83,
     "metadata": {},
     "output_type": "execute_result"
    }
   ],
   "source": [
    "list1"
   ]
  },
  {
   "cell_type": "code",
   "execution_count": 86,
   "id": "313da422",
   "metadata": {},
   "outputs": [
    {
     "data": {
      "text/plain": [
       "['eight',\n",
       " 'seven',\n",
       " 'six',\n",
       " 'five',\n",
       " 'eight',\n",
       " 'seven',\n",
       " 'six',\n",
       " 'five',\n",
       " 'four',\n",
       " 'three',\n",
       " 'two',\n",
       " 'one']"
      ]
     },
     "execution_count": 86,
     "metadata": {},
     "output_type": "execute_result"
    }
   ],
   "source": [
    "list1.reverse()#reverse the list\n",
    "list1"
   ]
  },
  {
   "cell_type": "code",
   "execution_count": 87,
   "id": "7fed3818",
   "metadata": {},
   "outputs": [
    {
     "data": {
      "text/plain": [
       "['one',\n",
       " 'two',\n",
       " 'three',\n",
       " 'four',\n",
       " 'five',\n",
       " 'six',\n",
       " 'seven',\n",
       " 'eight',\n",
       " 'five',\n",
       " 'six',\n",
       " 'seven',\n",
       " 'eight']"
      ]
     },
     "execution_count": 87,
     "metadata": {},
     "output_type": "execute_result"
    }
   ],
   "source": [
    "list1=list1[::-1]#reverse the list\n",
    "list1"
   ]
  },
  {
   "cell_type": "code",
   "execution_count": 89,
   "id": "fb97d52d",
   "metadata": {},
   "outputs": [
    {
     "data": {
      "text/plain": [
       "[2, 5, 9, 12, 34, 88, 99]"
      ]
     },
     "execution_count": 89,
     "metadata": {},
     "output_type": "execute_result"
    }
   ],
   "source": [
    "mylist3=[9,5,2,99,12,88,34]\n",
    "mylist3.sort() #sort list in ascending ordr\n",
    "mylist3"
   ]
  },
  {
   "cell_type": "code",
   "execution_count": 91,
   "id": "22e13795",
   "metadata": {},
   "outputs": [
    {
     "data": {
      "text/plain": [
       "[99, 88, 34, 12, 9, 5, 2]"
      ]
     },
     "execution_count": 91,
     "metadata": {},
     "output_type": "execute_result"
    }
   ],
   "source": [
    "mylist3=[9,5,2,99,12,88,34]\n",
    "mylist3.sort(reverse=True)#sort list in descending order\n",
    "mylist3"
   ]
  },
  {
   "cell_type": "code",
   "execution_count": 94,
   "id": "9efe4107",
   "metadata": {},
   "outputs": [
    {
     "data": {
      "text/plain": [
       "[11, 21, 33, 65, 88, 98]"
      ]
     },
     "execution_count": 94,
     "metadata": {},
     "output_type": "execute_result"
    }
   ],
   "source": [
    "mylist4=[88,65,33,21,11,98]\n",
    "sorted(mylist4)#returns new sorted list"
   ]
  },
  {
   "cell_type": "code",
   "execution_count": 93,
   "id": "0ce256b8",
   "metadata": {},
   "outputs": [
    {
     "data": {
      "text/plain": [
       "[88, 65, 33, 21, 11, 98]"
      ]
     },
     "execution_count": 93,
     "metadata": {},
     "output_type": "execute_result"
    }
   ],
   "source": [
    "mylist4"
   ]
  },
  {
   "cell_type": "markdown",
   "id": "ca88e3db",
   "metadata": {},
   "source": [
    "# loop through a list"
   ]
  },
  {
   "cell_type": "code",
   "execution_count": 95,
   "id": "6a4f0984",
   "metadata": {},
   "outputs": [
    {
     "data": {
      "text/plain": [
       "['one',\n",
       " 'two',\n",
       " 'three',\n",
       " 'four',\n",
       " 'five',\n",
       " 'six',\n",
       " 'seven',\n",
       " 'eight',\n",
       " 'five',\n",
       " 'six',\n",
       " 'seven',\n",
       " 'eight']"
      ]
     },
     "execution_count": 95,
     "metadata": {},
     "output_type": "execute_result"
    }
   ],
   "source": [
    "list1"
   ]
  },
  {
   "cell_type": "code",
   "execution_count": 97,
   "id": "d1c14e1c",
   "metadata": {},
   "outputs": [
    {
     "name": "stdout",
     "output_type": "stream",
     "text": [
      "one\n",
      "two\n",
      "three\n",
      "four\n",
      "five\n",
      "six\n",
      "seven\n",
      "eight\n",
      "five\n",
      "six\n",
      "seven\n",
      "eight\n"
     ]
    }
   ],
   "source": [
    "for i in list1:\n",
    "    print(i)"
   ]
  },
  {
   "cell_type": "code",
   "execution_count": 98,
   "id": "6b4a3ea3",
   "metadata": {},
   "outputs": [
    {
     "name": "stdout",
     "output_type": "stream",
     "text": [
      "(0, 'one')\n",
      "(1, 'two')\n",
      "(2, 'three')\n",
      "(3, 'four')\n",
      "(4, 'five')\n",
      "(5, 'six')\n",
      "(6, 'seven')\n",
      "(7, 'eight')\n",
      "(8, 'five')\n",
      "(9, 'six')\n",
      "(10, 'seven')\n",
      "(11, 'eight')\n"
     ]
    }
   ],
   "source": [
    "for i in enumerate(list1):\n",
    "    print(i)"
   ]
  },
  {
   "cell_type": "markdown",
   "id": "2b19ab51",
   "metadata": {},
   "source": [
    "# count"
   ]
  },
  {
   "cell_type": "code",
   "execution_count": 99,
   "id": "7713b30f",
   "metadata": {},
   "outputs": [],
   "source": [
    "list10=['one','two','three','four','one','one','two','three']"
   ]
  },
  {
   "cell_type": "code",
   "execution_count": 100,
   "id": "bf2e617e",
   "metadata": {},
   "outputs": [
    {
     "data": {
      "text/plain": [
       "3"
      ]
     },
     "execution_count": 100,
     "metadata": {},
     "output_type": "execute_result"
    }
   ],
   "source": [
    "list10.count('one')#number of times item one occure in the list"
   ]
  },
  {
   "cell_type": "code",
   "execution_count": 101,
   "id": "703c0e10",
   "metadata": {},
   "outputs": [
    {
     "data": {
      "text/plain": [
       "2"
      ]
     },
     "execution_count": 101,
     "metadata": {},
     "output_type": "execute_result"
    }
   ],
   "source": [
    "list10.count('two')#occurence ot item two in the list"
   ]
  },
  {
   "cell_type": "code",
   "execution_count": 102,
   "id": "0d167678",
   "metadata": {},
   "outputs": [
    {
     "data": {
      "text/plain": [
       "1"
      ]
     },
     "execution_count": 102,
     "metadata": {},
     "output_type": "execute_result"
    }
   ],
   "source": [
    "list10.count('four')#occurrence of item 'four' in the list"
   ]
  },
  {
   "cell_type": "markdown",
   "id": "5155b88f",
   "metadata": {},
   "source": [
    "# ALL/ ANY"
   ]
  },
  {
   "cell_type": "markdown",
   "id": "14bfa94b",
   "metadata": {},
   "source": [
    "the all() method returns:\n",
    "    -True-if all elements in a list are true\n",
    "    -False if any element in a list is false\n",
    "    \n",
    "    \n",
    " The any() function returns true if any elment in the list is True.if not, any() returns false "
   ]
  },
  {
   "cell_type": "code",
   "execution_count": 103,
   "id": "c0eac386",
   "metadata": {},
   "outputs": [],
   "source": [
    "L1=[1,2,3,4,0]"
   ]
  },
  {
   "cell_type": "code",
   "execution_count": 104,
   "id": "6ec4838b",
   "metadata": {},
   "outputs": [
    {
     "data": {
      "text/plain": [
       "False"
      ]
     },
     "execution_count": 104,
     "metadata": {},
     "output_type": "execute_result"
    }
   ],
   "source": [
    "all(L1) #will return false as one value is false(value 0)"
   ]
  },
  {
   "cell_type": "code",
   "execution_count": 105,
   "id": "6338b427",
   "metadata": {},
   "outputs": [
    {
     "data": {
      "text/plain": [
       "True"
      ]
     },
     "execution_count": 105,
     "metadata": {},
     "output_type": "execute_result"
    }
   ],
   "source": [
    "any(L1)# will return true as we have items in thelist with true value"
   ]
  },
  {
   "cell_type": "code",
   "execution_count": 106,
   "id": "547fbe3c",
   "metadata": {},
   "outputs": [],
   "source": [
    "L2=[1,2,3,4,True,False]"
   ]
  },
  {
   "cell_type": "code",
   "execution_count": 107,
   "id": "e49024b6",
   "metadata": {},
   "outputs": [
    {
     "data": {
      "text/plain": [
       "False"
      ]
     },
     "execution_count": 107,
     "metadata": {},
     "output_type": "execute_result"
    }
   ],
   "source": [
    "all(L2)# returns false as one valuse is false"
   ]
  },
  {
   "cell_type": "code",
   "execution_count": 108,
   "id": "bd6c3001",
   "metadata": {},
   "outputs": [
    {
     "data": {
      "text/plain": [
       "True"
      ]
     },
     "execution_count": 108,
     "metadata": {},
     "output_type": "execute_result"
    }
   ],
   "source": [
    "any(L2)#Will return true as we have items in the list with True vale"
   ]
  },
  {
   "cell_type": "code",
   "execution_count": 109,
   "id": "851dc163",
   "metadata": {},
   "outputs": [],
   "source": [
    "L3=[1,2,3,True]"
   ]
  },
  {
   "cell_type": "code",
   "execution_count": 110,
   "id": "6a86f7dc",
   "metadata": {},
   "outputs": [
    {
     "data": {
      "text/plain": [
       "True"
      ]
     },
     "execution_count": 110,
     "metadata": {},
     "output_type": "execute_result"
    }
   ],
   "source": [
    "all(L3)# will return true as all items in the list are True"
   ]
  },
  {
   "cell_type": "code",
   "execution_count": 111,
   "id": "e28788f2",
   "metadata": {},
   "outputs": [
    {
     "data": {
      "text/plain": [
       "True"
      ]
     },
     "execution_count": 111,
     "metadata": {},
     "output_type": "execute_result"
    }
   ],
   "source": [
    "any(L3)#will return true as we have items in the list with True value"
   ]
  },
  {
   "cell_type": "code",
   "execution_count": null,
   "id": "58ce8a25",
   "metadata": {},
   "outputs": [],
   "source": []
  }
 ],
 "metadata": {
  "kernelspec": {
   "display_name": "Python 3 (ipykernel)",
   "language": "python",
   "name": "python3"
  },
  "language_info": {
   "codemirror_mode": {
    "name": "ipython",
    "version": 3
   },
   "file_extension": ".py",
   "mimetype": "text/x-python",
   "name": "python",
   "nbconvert_exporter": "python",
   "pygments_lexer": "ipython3",
   "version": "3.10.9"
  }
 },
 "nbformat": 4,
 "nbformat_minor": 5
}
