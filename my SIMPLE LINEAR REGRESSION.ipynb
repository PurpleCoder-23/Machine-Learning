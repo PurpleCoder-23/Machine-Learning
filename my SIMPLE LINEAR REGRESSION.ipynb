 
"""
Created on Fri Sep 29 21:31:14 2023

@author: 91939
"""
import numpy as np
import matplotlib.pyplot as plt
import pandas as pd
import seaborn as sns

#importing dataset and extracting the dependent and independent variables
dataset=pd.read_csv(r"C:\Users\91939\Downloads\Salary_Data.csv")

X=dataset.iloc[:,:-1].values
y=dataset.iloc[:,:-1].values

dataset.head()
dataset.shape

# Data visualization
#building the corelation matrix
sns.heatmap(dataset.corr())


#split the dataset to 80-20%
from sklearn. model_selection  train_test_split

X_train,X_test,y_train,y_test=train_test_split(X,y,test_size=0.2,random state=0)


from sklearn.linear_model import  LinearRegression

regressor=LinearRegression()

# we build simple linear regression model regressor

